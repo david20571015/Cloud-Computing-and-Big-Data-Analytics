{
  "cells": [
    {
      "cell_type": "markdown",
      "metadata": {
        "id": "JGnRvEFTWUfi"
      },
      "source": [
        "# PySpark Warmup"
      ]
    },
    {
      "cell_type": "markdown",
      "metadata": {
        "id": "wOPY4_9dWehg"
      },
      "source": [
        "## Installation for PySpark\n",
        "\n",
        "\n"
      ]
    },
    {
      "cell_type": "code",
      "execution_count": 1,
      "metadata": {
        "id": "otxq_oDFWd0S"
      },
      "outputs": [
        {
          "name": "stdout",
          "output_type": "stream",
          "text": [
            "/bin/bash: /home/s311511038/miniconda3/lib/libtinfo.so.6: no version information available (required by /bin/bash)\n",
            "\u001b[1;31mE: \u001b[0mCould not open lock file /var/lib/dpkg/lock-frontend - open (13: Permission denied)\u001b[0m\n",
            "\u001b[1;31mE: \u001b[0mUnable to acquire the dpkg frontend lock (/var/lib/dpkg/lock-frontend), are you root?\u001b[0m\n",
            "/bin/bash: /home/s311511038/miniconda3/lib/libtinfo.so.6: no version information available (required by /bin/bash)\n",
            "Requirement already satisfied: pyspark==3.0.1 in /home/s311511038/miniconda3/envs/lab3/lib/python3.10/site-packages (3.0.1)\n",
            "Requirement already satisfied: py4j==0.10.9 in /home/s311511038/miniconda3/envs/lab3/lib/python3.10/site-packages (from pyspark==3.0.1) (0.10.9)\n",
            "Note: you may need to restart the kernel to use updated packages.\n"
          ]
        }
      ],
      "source": [
        "!apt -y install openjdk-8-jre-headless\n",
        "%pip install pyspark==3.0.1"
      ]
    },
    {
      "cell_type": "markdown",
      "metadata": {
        "id": "11GHuwQNNnOI"
      },
      "source": [
        "#### Start a simple Spark Session"
      ]
    },
    {
      "cell_type": "code",
      "execution_count": null,
      "metadata": {
        "id": "f-a5o5sQ_ZgF"
      },
      "outputs": [],
      "source": [
        "import pyspark\n",
        "from pyspark.sql import SparkSession\n",
        "from pyspark.sql.types import IntegerType\n",
        "from pyspark.sql.types import StringType\n",
        "from pyspark.sql.types import StructField\n",
        "from pyspark.sql.types import StructType\n",
        "\n",
        "spark = SparkSession.builder.appName('Lab3').getOrCreate()"
      ]
    },
    {
      "cell_type": "markdown",
      "metadata": {
        "id": "k3JX8kmDNudQ"
      },
      "source": [
        "Data Schema"
      ]
    },
    {
      "cell_type": "code",
      "execution_count": null,
      "metadata": {
        "id": "3GY9sp5I5bnD"
      },
      "outputs": [],
      "source": [
        "data_schema = [\n",
        "    StructField('age', IntegerType(), True),\n",
        "    StructField('name', StringType(), True)\n",
        "]\n",
        "final_struc = StructType(fields=data_schema)\n"
      ]
    },
    {
      "cell_type": "markdown",
      "metadata": {
        "id": "9962yCcqODQY"
      },
      "source": [
        "Load the people.json gile, have Spark infer the data types."
      ]
    },
    {
      "cell_type": "code",
      "execution_count": null,
      "metadata": {
        "id": "mdXIPRDhNiqz"
      },
      "outputs": [],
      "source": [
        "df = spark.read.json('people.json', schema=final_struc)\n"
      ]
    },
    {
      "cell_type": "markdown",
      "metadata": {
        "id": "xhbCvaK3O0Kc"
      },
      "source": [
        "#### What are the column names?"
      ]
    },
    {
      "cell_type": "code",
      "execution_count": null,
      "metadata": {
        "colab": {
          "base_uri": "https://localhost:8080/"
        },
        "id": "6Hj4NFfg5bnE",
        "outputId": "611750da-3ab9-4550-856a-b642ce5e8c8c"
      },
      "outputs": [],
      "source": [
        "df.columns"
      ]
    },
    {
      "cell_type": "markdown",
      "metadata": {
        "id": "DtAfnmz-O8Zz"
      },
      "source": [
        "#### What is the schema?"
      ]
    },
    {
      "cell_type": "code",
      "execution_count": null,
      "metadata": {
        "colab": {
          "base_uri": "https://localhost:8080/"
        },
        "id": "d6q1-wnJO9wM",
        "outputId": "cbf5e8c4-cb63-43fb-805b-fe477dc39191"
      },
      "outputs": [],
      "source": [
        "df.printSchema()"
      ]
    },
    {
      "cell_type": "markdown",
      "metadata": {
        "id": "uf1e8v8NPGDR"
      },
      "source": [
        "Show whole DataFrame "
      ]
    },
    {
      "cell_type": "code",
      "execution_count": null,
      "metadata": {
        "colab": {
          "base_uri": "https://localhost:8080/"
        },
        "id": "OTKCp3DkPGdB",
        "outputId": "2e2927e4-8b86-4fb6-f5ec-505df9c2964e"
      },
      "outputs": [],
      "source": [
        "df.show()"
      ]
    },
    {
      "cell_type": "markdown",
      "metadata": {
        "id": "g02HDXuhPRSB"
      },
      "source": [
        "Print out the first 2 rows."
      ]
    },
    {
      "cell_type": "code",
      "execution_count": null,
      "metadata": {
        "colab": {
          "base_uri": "https://localhost:8080/"
        },
        "id": "EjRovtRqPTf6",
        "outputId": "608a1057-6eaf-4aa1-9a92-17f8c6d52f69"
      },
      "outputs": [],
      "source": [
        "# Didn't strictly need a for loop, could have just then head()\n",
        "for row in df.head(2):\n",
        "    print(row)"
      ]
    },
    {
      "cell_type": "markdown",
      "metadata": {
        "id": "5GsRKjq4Pb3c"
      },
      "source": [
        "Use describe() to learn about the DataFrame"
      ]
    },
    {
      "cell_type": "code",
      "execution_count": null,
      "metadata": {
        "colab": {
          "base_uri": "https://localhost:8080/"
        },
        "id": "hHCzibjUPdrM",
        "outputId": "392f402a-62dd-44ca-d8c2-39d1ea66fb44"
      },
      "outputs": [],
      "source": [
        "df.describe()"
      ]
    },
    {
      "cell_type": "markdown",
      "metadata": {
        "id": "EIiSknW9P-5D"
      },
      "source": [
        "Use another data frame to learn about the statistical report"
      ]
    },
    {
      "cell_type": "code",
      "execution_count": null,
      "metadata": {
        "colab": {
          "base_uri": "https://localhost:8080/"
        },
        "id": "MyCnoHfEP8zi",
        "outputId": "6abc8a43-b687-43e9-a658-2528f1da9a75"
      },
      "outputs": [],
      "source": [
        "temp = df.describe()\n",
        "temp.show()"
      ]
    },
    {
      "cell_type": "markdown",
      "metadata": {
        "id": "NWFzUNzLRrRc"
      },
      "source": [
        "Get the mean of age directly"
      ]
    },
    {
      "cell_type": "code",
      "execution_count": null,
      "metadata": {
        "colab": {
          "base_uri": "https://localhost:8080/"
        },
        "id": "F7OkBnMZ5bnF",
        "outputId": "3617f80d-6259-45af-afe3-5fe42a6c9faf"
      },
      "outputs": [],
      "source": [
        "from pyspark.sql.functions import mean\n",
        "\n",
        "df.select(mean(\"age\")).show()"
      ]
    },
    {
      "cell_type": "markdown",
      "metadata": {
        "id": "0sZSs0YeSpuS"
      },
      "source": [
        "What is the max and min of the Volume column?"
      ]
    },
    {
      "cell_type": "code",
      "execution_count": null,
      "metadata": {
        "colab": {
          "base_uri": "https://localhost:8080/"
        },
        "id": "YSpUUJaSSrxd",
        "outputId": "8731d750-395a-49e3-f97a-9ee39fd77c12"
      },
      "outputs": [],
      "source": [
        "# Could have also used describe\n",
        "from pyspark.sql.functions import max\n",
        "from pyspark.sql.functions import min\n",
        "\n",
        "df.select(max(\"age\"), min(\"age\")).show()\n"
      ]
    },
    {
      "cell_type": "markdown",
      "metadata": {
        "id": "7E2XNGa_S1iA"
      },
      "source": [
        "How many days was the age smaller than 30?"
      ]
    },
    {
      "cell_type": "code",
      "execution_count": null,
      "metadata": {
        "colab": {
          "base_uri": "https://localhost:8080/"
        },
        "id": "TVsXwce9S1vP",
        "outputId": "9f198a7a-cd0e-460b-b804-a918bc2aade4"
      },
      "outputs": [],
      "source": [
        "df.filter(\"age < 30\").count()"
      ]
    },
    {
      "cell_type": "code",
      "execution_count": null,
      "metadata": {
        "colab": {
          "base_uri": "https://localhost:8080/"
        },
        "id": "25qMbjf-TKtH",
        "outputId": "a48e1100-2c94-4d6b-e401-be3cf0190cd6"
      },
      "outputs": [],
      "source": [
        "from pyspark.sql.functions import count\n",
        "\n",
        "result = df.filter(df['age'] < 30)\n",
        "result.select(count('age')).show()"
      ]
    },
    {
      "cell_type": "markdown",
      "metadata": {
        "id": "_LRBBzbTXm6h"
      },
      "source": [
        "# PySpark Exercise\n",
        "\n",
        "Let's get some quick practice with your new Spark DataFrame skills, you will be asked some basic questions about some stock market data, in this case Walmart Stock from the years 2012-2017. This exercise will just ask a bunch of questions, unlike the future machine learning exercises, which will be a little looser and be in the form of \"Consulting Projects\", but more on that later!\n",
        "\n",
        "For now, just answer the questions and complete the tasks below.\n",
        "\n",
        "#### [Hint](https://spark.apache.org/docs/3.0.1/api/python/index.html)\n",
        "\n",
        "#### Use the walmart_stock.csv file to Answer and complete the  tasks below!"
      ]
    },
    {
      "cell_type": "markdown",
      "metadata": {
        "id": "0by0I8LWwFuy"
      },
      "source": [
        "#### Load the Walmart Stock CSV File, have Spark infer the data types."
      ]
    },
    {
      "cell_type": "code",
      "execution_count": null,
      "metadata": {
        "collapsed": true,
        "id": "tpyyb1u5wFuy"
      },
      "outputs": [],
      "source": [
        "df = spark.read.csv('/content/walmart_stock.csv', header=True, inferSchema=True)"
      ]
    },
    {
      "cell_type": "markdown",
      "metadata": {
        "id": "9XfzJNyEwFuy"
      },
      "source": [
        "#### What are the column names?"
      ]
    },
    {
      "cell_type": "code",
      "execution_count": null,
      "metadata": {
        "colab": {
          "base_uri": "https://localhost:8080/"
        },
        "id": "D5Wdw6k5wFuz",
        "outputId": "8c456963-c14b-4546-890f-c919beabdb3a"
      },
      "outputs": [],
      "source": [
        "df.columns"
      ]
    },
    {
      "cell_type": "markdown",
      "metadata": {
        "id": "5nnDfs-YwFu0"
      },
      "source": [
        "#### What does the Schema look like?"
      ]
    },
    {
      "cell_type": "code",
      "execution_count": null,
      "metadata": {
        "colab": {
          "base_uri": "https://localhost:8080/"
        },
        "id": "kDIkKcmzwFu0",
        "outputId": "34752e8c-bc2f-4d6f-c8d5-a5e91cf321b3"
      },
      "outputs": [],
      "source": [
        "df.printSchema()"
      ]
    },
    {
      "cell_type": "markdown",
      "metadata": {
        "id": "dMlfVQeOwFu0"
      },
      "source": [
        "## Checkpoint 1:Print out the first 5 columns."
      ]
    },
    {
      "cell_type": "code",
      "execution_count": null,
      "metadata": {
        "colab": {
          "base_uri": "https://localhost:8080/"
        },
        "id": "_QzB3nmJwFu1",
        "outputId": "d76ea897-5a94-45ad-ca03-695591bb50d8"
      },
      "outputs": [],
      "source": [
        "for row in df.head(5):\n",
        "    print(row)\n"
      ]
    },
    {
      "cell_type": "markdown",
      "metadata": {
        "id": "00ckfCFJwFu1"
      },
      "source": [
        "## Checkpoint 2: Use describe() to learn about the DataFrame."
      ]
    },
    {
      "cell_type": "code",
      "execution_count": null,
      "metadata": {
        "colab": {
          "base_uri": "https://localhost:8080/"
        },
        "id": "yvS8dfD5wFu1",
        "outputId": "a0051bdf-bc2c-4bc9-9844-6d5956e455fc"
      },
      "outputs": [],
      "source": [
        "df.describe().show()"
      ]
    },
    {
      "cell_type": "markdown",
      "metadata": {
        "id": "GdffmS2cwFu1"
      },
      "source": [
        "\n",
        "#### There are too many decimal places for mean and stddev in the describe() dataframe. Format the numbers to just show up to two decimal places. Pay careful attention to the datatypes that .describe() returns, we didn't cover how to do this exact formatting, but we covered something very similar. [Check this link for a hint](https://spark.apache.org/docs/3.0.1/api/python/pyspark.sql.html?highlight=describe#pyspark.sql.DataFrame.describe)"
      ]
    },
    {
      "cell_type": "code",
      "execution_count": null,
      "metadata": {
        "colab": {
          "base_uri": "https://localhost:8080/"
        },
        "id": "L330C5ESwFu2",
        "outputId": "112326df-c77b-4c88-9887-3a0a846ac43d"
      },
      "outputs": [],
      "source": [
        "# Uh oh Strings!\n",
        "df.describe().printSchema()"
      ]
    },
    {
      "cell_type": "code",
      "execution_count": null,
      "metadata": {
        "collapsed": true,
        "id": "P9ZaNJKowFu2"
      },
      "outputs": [],
      "source": [
        "from pyspark.sql.functions import format_number"
      ]
    },
    {
      "cell_type": "code",
      "execution_count": null,
      "metadata": {
        "colab": {
          "base_uri": "https://localhost:8080/"
        },
        "id": "5eNjc8dkYwvn",
        "outputId": "8893fa5a-b1df-4404-a759-f806500852e1"
      },
      "outputs": [],
      "source": [
        "# hint\n",
        "result = df.describe()\n",
        "result.select(\n",
        "    result['summary'],\n",
        "    format_number(result['Open'].cast('float'), 2).alias('Open'),\n",
        "    format_number(result['Close'].cast('float'), 2).alias('Close'),\n",
        ").show()\n"
      ]
    },
    {
      "cell_type": "markdown",
      "metadata": {
        "id": "4icKEEUeZG8x"
      },
      "source": [
        "## Checkpoint 3: format number"
      ]
    },
    {
      "cell_type": "code",
      "execution_count": null,
      "metadata": {
        "colab": {
          "base_uri": "https://localhost:8080/"
        },
        "id": "j0mBQiV8wFu2",
        "outputId": "e2a447fc-432e-4303-99be-4414a8a8a923"
      },
      "outputs": [],
      "source": [
        "df.describe().select(\n",
        "    result['summary'],\n",
        "    format_number(result['Open'].cast('float'), 2).alias('Open'),\n",
        "    format_number(result['High'].cast('float'), 2).alias('High'),\n",
        "    format_number(result['Low'].cast('float'), 2).alias('Low'),\n",
        "    format_number(result['Close'].cast('float'), 2).alias('Close'),\n",
        "    result['Volume'].cast('int').alias('Volume'),\n",
        ").show()"
      ]
    },
    {
      "cell_type": "markdown",
      "metadata": {
        "id": "dfXkOlm3wFu3"
      },
      "source": [
        "## Checkpoint 4: HV Ratio\n",
        "HV Ratio = df[\"High\"]/df[\"Volume\"]\n",
        "#### Create a new dataframe with a column called HV Ratio that is the ratio of the High Price versus volume of stock traded for a day."
      ]
    },
    {
      "cell_type": "code",
      "execution_count": null,
      "metadata": {
        "colab": {
          "base_uri": "https://localhost:8080/"
        },
        "id": "VBTntbdWwFu3",
        "outputId": "69f31bdc-abb8-40ca-d392-36a55475d2b9"
      },
      "outputs": [],
      "source": [
        "df.select((df['High'] / df['Volume']).alias('HV Ratio')).show()"
      ]
    },
    {
      "cell_type": "markdown",
      "metadata": {
        "id": "pASph43NwFu3"
      },
      "source": [
        "#### What day had the Peak High in Price?"
      ]
    },
    {
      "cell_type": "code",
      "execution_count": null,
      "metadata": {
        "id": "axinjqWJwFu3",
        "outputId": "64cda9ab-0b6a-4de1-900d-bd47f21a53c6"
      },
      "outputs": [],
      "source": [
        "# Didn't need to really do this much indexing\n",
        "# Could have just shown the entire row\n",
        "df.orderBy(df[\"High\"].desc()).head(1)[0][0]"
      ]
    },
    {
      "cell_type": "markdown",
      "metadata": {
        "id": "sidgNJrKwFu4"
      },
      "source": [
        "## Checkpoint 5: What is the mean, max and min of the Close column?"
      ]
    },
    {
      "cell_type": "code",
      "execution_count": null,
      "metadata": {
        "collapsed": true,
        "id": "xn1YP2fPwFu4"
      },
      "outputs": [],
      "source": [
        "# Could have also used describe\n",
        "from pyspark.sql.functions import max\n",
        "from pyspark.sql.functions import mean\n",
        "from pyspark.sql.functions import min"
      ]
    },
    {
      "cell_type": "code",
      "execution_count": null,
      "metadata": {
        "colab": {
          "base_uri": "https://localhost:8080/"
        },
        "id": "3-F26yP0wFu4",
        "outputId": "e2661eea-17ed-4be7-f230-95b417f237da"
      },
      "outputs": [],
      "source": [
        "df.select(\n",
        "    mean(df['Close']),\n",
        "    max(df['Close']),\n",
        "    min(df['Close']),\n",
        ").show()"
      ]
    },
    {
      "cell_type": "markdown",
      "metadata": {
        "id": "at1YAUjAwFu5"
      },
      "source": [
        "## Checkpoint 6: How many days was the Close lower than 60 dollars?"
      ]
    },
    {
      "cell_type": "code",
      "execution_count": null,
      "metadata": {
        "id": "DU4shbl1wFu5",
        "outputId": "f53b8da0-0e58-4a96-cc47-6b4abcff809f"
      },
      "outputs": [],
      "source": [
        "from pyspark.sql.functions import count  # hint\n",
        "\n",
        "df.filter(df['Close'] < 60).select(count('Close')).show()"
      ]
    },
    {
      "cell_type": "markdown",
      "metadata": {
        "id": "-mjRQsNLwFu6"
      },
      "source": [
        "## Checkpoint 7: What percentage of the time was the High greater than 80 dollars ?\n",
        "#### In other words, (Number of Days High>80)/(Total Days in the dataset)"
      ]
    },
    {
      "cell_type": "code",
      "execution_count": null,
      "metadata": {
        "id": "PW2J1bUTwFu6",
        "outputId": "e3ce2289-a020-4ac5-ed04-ae8bf7fffac4"
      },
      "outputs": [],
      "source": [
        "# Many ways to do this\n",
        "\n",
        "n_days_higher_than_80 = df.filter(df['High'] > 80).count()\n",
        "total_days = df.count()\n",
        "print(n_days_higher_than_80 / total_days * 100)"
      ]
    },
    {
      "cell_type": "markdown",
      "metadata": {
        "id": "4EFdzaC_wFu6"
      },
      "source": [
        "## Checkpoint 8: What is the Pearson correlation between High and Volume?\n",
        "hint: corr(\"High\",\"Volume\")\n",
        "#### [Hint](https://spark.apache.org/docs/3.0.1/api/python/pyspark.sql.html?highlight=dataframestatfunctions#pyspark.sql.DataFrameStatFunctions)"
      ]
    },
    {
      "cell_type": "code",
      "execution_count": null,
      "metadata": {
        "colab": {
          "base_uri": "https://localhost:8080/"
        },
        "id": "Y2231j4JwFu6",
        "outputId": "5bd74c70-fc55-49f8-c14e-0e352c8afbc1"
      },
      "outputs": [],
      "source": [
        "from pyspark.sql.functions import corr  # hint\n",
        "\n",
        "df.select(corr('High', 'Volume')).show()"
      ]
    },
    {
      "cell_type": "markdown",
      "metadata": {
        "id": "8HtPvTfXwFu7"
      },
      "source": [
        "#### What is the max High per year?"
      ]
    },
    {
      "cell_type": "code",
      "execution_count": null,
      "metadata": {
        "collapsed": true,
        "id": "TzQWGtRPwFu7"
      },
      "outputs": [],
      "source": [
        "from pyspark.sql.functions import year\n",
        "\n",
        "yeardf = df.withColumn(\"Year\", year(df[\"Date\"]))\n"
      ]
    },
    {
      "cell_type": "code",
      "execution_count": null,
      "metadata": {
        "colab": {
          "base_uri": "https://localhost:8080/"
        },
        "id": "oRRC7cVXwFu7",
        "outputId": "3bb33f7f-7a04-40b6-dfed-dd427b24865e"
      },
      "outputs": [],
      "source": [
        "max_df = yeardf.groupBy('Year').max()\n",
        "max_df.select('Year', 'max(High)').show()\n"
      ]
    },
    {
      "cell_type": "markdown",
      "metadata": {
        "id": "dkgGoLmrwFu7"
      },
      "source": [
        "## Checkpoint 9: What is the average Close for each Calendar Month?\n",
        "#### In other words, across all the years, what is the average Close price for Jan,Feb, Mar, etc... Your result will have a value for each of these months. "
      ]
    },
    {
      "cell_type": "code",
      "execution_count": null,
      "metadata": {
        "id": "cw-h8jxqwFu7"
      },
      "outputs": [],
      "source": [
        "from pyspark.sql.functions import month\n",
        "# hint\n",
        "monthdf = df.withColumn(\"Month\", month(\"Date\"))\n"
      ]
    },
    {
      "cell_type": "code",
      "execution_count": null,
      "metadata": {
        "colab": {
          "base_uri": "https://localhost:8080/"
        },
        "id": "3Jow400ibWMA",
        "outputId": "d3f872f5-ebae-4bfc-e41a-272ee4e90977"
      },
      "outputs": [],
      "source": [
        "# hint: group by \"Month\"\n",
        "monthdf.groupBy('Month').avg().select('Month',\n",
        "                                      'avg(Close)').sort('Month').show()\n"
      ]
    },
    {
      "cell_type": "markdown",
      "metadata": {
        "id": "pNYw0uiKwFu8"
      },
      "source": [
        "# Great!"
      ]
    }
  ],
  "metadata": {
    "colab": {
      "provenance": []
    },
    "kernelspec": {
      "display_name": "lab3",
      "language": "python",
      "name": "python3"
    },
    "language_info": {
      "codemirror_mode": {
        "name": "ipython",
        "version": 3
      },
      "file_extension": ".py",
      "mimetype": "text/x-python",
      "name": "python",
      "nbconvert_exporter": "python",
      "pygments_lexer": "ipython3",
      "version": "3.10.8"
    },
    "vscode": {
      "interpreter": {
        "hash": "9cff3a4ce91c47fa892efe1c861daa7930117773dce14227be7c89bb96a45c3b"
      }
    }
  },
  "nbformat": 4,
  "nbformat_minor": 0
}
